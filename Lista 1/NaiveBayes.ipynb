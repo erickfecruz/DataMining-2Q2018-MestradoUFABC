{
 "cells": [
  {
   "cell_type": "markdown",
   "metadata": {},
   "source": [
    "Naive bayes utilizado para a base de dados Iris baseada na área da sépala e área da pétala"
   ]
  },
  {
   "cell_type": "code",
   "execution_count": 1,
   "metadata": {},
   "outputs": [],
   "source": [
    "import numpy as np \n",
    "import pandas as pd \n",
    "\n",
    "iris = pd.read_csv('iris.csv')"
   ]
  },
  {
   "cell_type": "code",
   "execution_count": 2,
   "metadata": {},
   "outputs": [],
   "source": [
    "#Calcular área sepala e petala\n",
    "iris.iloc[:, 0] = iris.iloc[:, 0] * iris.iloc[:, 1]\n",
    "iris.iloc[:, 1] = iris.iloc[:, 2] * iris.iloc[:, 3]\n",
    "\n",
    "iris.drop(\"temp1\", axis=1, inplace=True)\n",
    "iris.drop(\"temp2\", axis=1, inplace=True)"
   ]
  },
  {
   "cell_type": "code",
   "execution_count": 3,
   "metadata": {},
   "outputs": [
    {
     "data": {
      "text/plain": [
       "GaussianNB()"
      ]
     },
     "execution_count": 3,
     "metadata": {},
     "output_type": "execute_result"
    }
   ],
   "source": [
    "array = iris.values\n",
    "X = array[:,0:2]\n",
    "Y = array[:,2]\n",
    "\n",
    "from sklearn.naive_bayes import GaussianNB\n",
    "clf = GaussianNB()\n",
    "\n",
    "clf.fit(X, Y)"
   ]
  },
  {
   "cell_type": "code",
   "execution_count": 6,
   "metadata": {},
   "outputs": [
    {
     "data": {
      "image/png": "[encoded data removed]",
      "text/plain": [
       "<Figure size 432x288 with 1 Axes>"
      ]
     },
     "metadata": {},
     "output_type": "display_data"
    }
   ],
   "source": [
    "import matplotlib\n",
    "import matplotlib.pyplot as plt\n",
    "from matplotlib import colors as mcolors\n",
    "\n",
    "def my_range(start, end, step):\n",
    "    while start <= end:\n",
    "        yield start\n",
    "        start += step\n",
    "\n",
    "matplotlib.rcParams['axes.unicode_minus'] = False\n",
    "fig, ax = plt.subplots()\n",
    "\n",
    "for x in my_range(0.1, 25, 0.1):\n",
    "    for y in my_range(0.1, 25, 0.1):\n",
    "        classe = clf.predict([[x, y]])\n",
    "        if classe == 'Iris-setosa':\n",
    "            ax.plot(x, y, 'o',color='red')\n",
    "        elif classe == 'Iris-versicolor':\n",
    "            ax.plot(x, y, 'o',color='blue')\n",
    "        else:\n",
    "            ax.plot(x, y, 'o',color='lime')\n",
    "    \n",
    "ax.set_title('Naive Bayes')\n",
    "ax.set_xlabel('Área Sépala')\n",
    "ax.set_ylabel('Área Pétala')\n",
    "plt.savefig('nb.png')"
   ]
  }
 ],
 "metadata": {
  "kernelspec": {
   "display_name": "Python 3",
   "language": "python",
   "name": "python3"
  },
  "language_info": {
   "codemirror_mode": {
    "name": "ipython",
    "version": 3
   },
   "file_extension": ".py",
   "mimetype": "text/x-python",
   "name": "python",
   "nbconvert_exporter": "python",
   "pygments_lexer": "ipython3",
   "version": "3.5.2"
  }
 },
 "nbformat": 4,
 "nbformat_minor": 2
}
